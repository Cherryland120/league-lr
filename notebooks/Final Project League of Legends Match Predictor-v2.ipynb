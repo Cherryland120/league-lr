{
 "cells": [
  {
   "cell_type": "markdown",
   "metadata": {},
   "source": [
    "<img src=\"https://cf-courses-data.s3.us.cloud-object-storage.appdomain.cloud/assets/logos/SN_web_lightmode.png\" height=300 width=300 />\n"
   ]
  },
  {
   "cell_type": "markdown",
   "metadata": {},
   "source": [
    "# Final Project: League of Legends Match Predictor \n"
   ]
  },
  {
   "cell_type": "markdown",
   "metadata": {},
   "source": [
    "### Introduction  \n",
    "\n",
    "League of Legends, a popular multiplayer online battle arena (MOBA) game, generates extensive data from matches, providing an excellent opportunity to apply machine learning techniques to real-world scenarios. Perform the following steps to build a logistic regression model aimed at predicting the outcomes of League of Legends matches.  \n",
    "\n",
    "Use the [league_of_legends_data_large.csv](https://cf-courses-data.s3.us.cloud-object-storage.appdomain.cloud/rk7VDaPjMp1h5VXS-cUyMg/league-of-legends-data-large.csv) file to perform the tasks.  \n",
    "\n",
    "### Step 1: Data Loading and Preprocessing  \n",
    "\n",
    "#### Task 1: Load the League of Legends dataset and preprocess it for training.  \n",
    "\n",
    "Loading and preprocessing the dataset involves reading the data, splitting it into training and testing sets, and standardizing the features. You will utilize `pandas` for data manipulation, `train_test_split` from `sklearn` for data splitting, and `StandardScaler` for feature scaling.  \n",
    "\n",
    "Note: Please ensure all the required libraries are installed and imported.\n",
    "\n",
    "1 .Load the dataset:\n",
    "Use `pd.read_csv()` to load the dataset into a pandas DataFrame.</br>\n",
    "2. Split data into features and target: Separate win (target) and the remaining columns (features).</br>\n",
    "   X = data.drop('win', axis=1)</br>\n",
    "   y = data['win'] </br>\n",
    "3 .Split the Data into Training and Testing Sets:\n",
    "Use `train_test_split()` from `sklearn.model_selection` to divide the data. Set `test_size`=0.2 to allocate 20% for testing and 80% for training, and use `random_state`=42 to ensure reproducibility of the split.</br>\n",
    "4. Standardize the features:\n",
    "Use `StandardScaler()` from sklearn.preprocessing to scale the features.</br>\n",
    "5. Convert to PyTorch tensors:\n",
    "Use `torch.tensor()` to convert the data to PyTorch tensors.\n",
    "\n",
    "#### Exercise 1:  \n",
    "\n",
    "Write a code to load the dataset, split it into training and testing sets, standardize the features, and convert the data into PyTorch tensors for use in training a PyTorch model.  \n"
   ]
  },
  {
   "cell_type": "markdown",
   "metadata": {},
   "source": [
    "### Setup\n",
    "Installing required libraries:\n",
    "\n",
    "The following required libraries are not pre-installed in the Skills Network Labs environment. You will need to run the following cell to install them:\n"
   ]
  },
  {
   "cell_type": "code",
   "execution_count": 2,
   "metadata": {},
   "outputs": [
    {
     "name": "stdout",
     "output_type": "stream",
     "text": [
      "Defaulting to user installation because normal site-packages is not writeable\n",
      "Requirement already satisfied: pandas in /Users/test/.local/lib/python3.11/site-packages (2.1.4)\n",
      "Requirement already satisfied: numpy<2,>=1.23.2 in /Users/test/.local/lib/python3.11/site-packages (from pandas) (1.26.0)\n",
      "Requirement already satisfied: python-dateutil>=2.8.2 in /Users/test/.local/lib/python3.11/site-packages (from pandas) (2.9.0.post0)\n",
      "Requirement already satisfied: pytz>=2020.1 in /Users/michaeltasker/anaconda3/lib/python3.11/site-packages (from pandas) (2023.3.post1)\n",
      "Requirement already satisfied: tzdata>=2022.1 in /Users/michaeltasker/anaconda3/lib/python3.11/site-packages (from pandas) (2023.3)\n",
      "Requirement already satisfied: six>=1.5 in /Users/michaeltasker/anaconda3/lib/python3.11/site-packages (from python-dateutil>=2.8.2->pandas) (1.16.0)\n",
      "Defaulting to user installation because normal site-packages is not writeable\n",
      "Requirement already satisfied: scikit-learn in /Users/test/.local/lib/python3.11/site-packages (1.7.0)\n",
      "Requirement already satisfied: numpy>=1.22.0 in /Users/test/.local/lib/python3.11/site-packages (from scikit-learn) (1.26.0)\n",
      "Requirement already satisfied: scipy>=1.8.0 in /Users/michaeltasker/anaconda3/lib/python3.11/site-packages (from scikit-learn) (1.11.1)\n",
      "Requirement already satisfied: joblib>=1.2.0 in /Users/michaeltasker/anaconda3/lib/python3.11/site-packages (from scikit-learn) (1.2.0)\n",
      "Requirement already satisfied: threadpoolctl>=3.1.0 in /Users/test/.local/lib/python3.11/site-packages (from scikit-learn) (3.6.0)\n",
      "Defaulting to user installation because normal site-packages is not writeable\n",
      "Requirement already satisfied: torch in /Users/test/.local/lib/python3.11/site-packages (2.2.2)\n",
      "Requirement already satisfied: filelock in /Users/michaeltasker/anaconda3/lib/python3.11/site-packages (from torch) (3.9.0)\n",
      "Requirement already satisfied: typing-extensions>=4.8.0 in /Users/michaeltasker/anaconda3/lib/python3.11/site-packages (from torch) (4.13.2)\n",
      "Requirement already satisfied: sympy in /Users/michaeltasker/anaconda3/lib/python3.11/site-packages (from torch) (1.11.1)\n",
      "Requirement already satisfied: networkx in /Users/michaeltasker/anaconda3/lib/python3.11/site-packages (from torch) (3.1)\n",
      "Requirement already satisfied: jinja2 in /Users/michaeltasker/anaconda3/lib/python3.11/site-packages (from torch) (3.1.2)\n",
      "Requirement already satisfied: fsspec in /Users/test/.local/lib/python3.11/site-packages (from torch) (2025.7.0)\n",
      "Requirement already satisfied: MarkupSafe>=2.0 in /Users/michaeltasker/anaconda3/lib/python3.11/site-packages (from jinja2->torch) (2.1.1)\n",
      "Requirement already satisfied: mpmath>=0.19 in /Users/michaeltasker/anaconda3/lib/python3.11/site-packages (from sympy->torch) (1.3.0)\n",
      "Defaulting to user installation because normal site-packages is not writeable\n",
      "Requirement already satisfied: matplotlib in /Users/test/.local/lib/python3.11/site-packages (3.9.2)\n",
      "Requirement already satisfied: contourpy>=1.0.1 in /Users/michaeltasker/anaconda3/lib/python3.11/site-packages (from matplotlib) (1.0.5)\n",
      "Requirement already satisfied: cycler>=0.10 in /Users/michaeltasker/anaconda3/lib/python3.11/site-packages (from matplotlib) (0.11.0)\n",
      "Requirement already satisfied: fonttools>=4.22.0 in /Users/michaeltasker/anaconda3/lib/python3.11/site-packages (from matplotlib) (4.25.0)\n",
      "Requirement already satisfied: kiwisolver>=1.3.1 in /Users/michaeltasker/anaconda3/lib/python3.11/site-packages (from matplotlib) (1.4.4)\n",
      "Requirement already satisfied: numpy>=1.23 in /Users/test/.local/lib/python3.11/site-packages (from matplotlib) (1.26.0)\n",
      "Requirement already satisfied: packaging>=20.0 in /Users/test/.local/lib/python3.11/site-packages (from matplotlib) (24.2)\n",
      "Requirement already satisfied: pillow>=8 in /Users/michaeltasker/anaconda3/lib/python3.11/site-packages (from matplotlib) (10.0.1)\n",
      "Requirement already satisfied: pyparsing>=2.3.1 in /Users/michaeltasker/anaconda3/lib/python3.11/site-packages (from matplotlib) (3.0.9)\n",
      "Requirement already satisfied: python-dateutil>=2.7 in /Users/test/.local/lib/python3.11/site-packages (from matplotlib) (2.9.0.post0)\n",
      "Requirement already satisfied: six>=1.5 in /Users/michaeltasker/anaconda3/lib/python3.11/site-packages (from python-dateutil>=2.7->matplotlib) (1.16.0)\n",
      "Name: seaborn\n",
      "Version: 0.12.2\n",
      "Summary: Statistical data visualization\n",
      "Home-page: \n",
      "Author: \n",
      "Author-email: Michael Waskom <mwaskom@gmail.com>\n",
      "License: \n",
      "Location: /Users/michaeltasker/anaconda3/lib/python3.11/site-packages\n",
      "Requires: matplotlib, numpy, pandas\n",
      "Required-by: \n"
     ]
    }
   ],
   "source": [
    "!pip install pandas\n",
    "!pip install scikit-learn\n",
    "!pip install torch\n",
    "!pip install matplotlib"
   ]
  },
  {
   "cell_type": "code",
   "execution_count": 7,
   "metadata": {
    "editable": true,
    "slideshow": {
     "slide_type": ""
    },
    "tags": []
   },
   "outputs": [],
   "source": [
    "## Write your code here\n",
    "import pandas as pd\n",
    "from sklearn.model_selection import train_test_split\n",
    "from sklearn.preprocessing import StandardScaler\n",
    "import torch\n",
    "\n",
    "data = r\"../data/league_of_legends_data_large.csv\"\n",
    "df = pd.read_csv(data)\n",
    "X = df.drop('win', axis=1)\n",
    "y = df['win']\n",
    "\n",
    "scaler = StandardScaler()\n",
    "\n",
    "X_train, X_test, y_train, y_test = train_test_split(X, y, test_size=0.2, random_state=42)\n",
    "X_train_scaled = scaler.fit_transform(X_train)\n",
    "X_test_scaled = scaler.transform(X_test)\n",
    "\n",
    "X_train_tensor = torch.tensor(X_train_scaled, dtype = torch.float32)\n",
    "X_test_tensor = torch.tensor(X_test_scaled, dtype = torch.float32)\n",
    "\n",
    "y_train_tensor = torch.tensor(y_train.values, dtype = torch.float32)\n",
    "y_test_tensor = torch.tensor(y_test.values, dtype = torch.float32)"
   ]
  },
  {
   "cell_type": "markdown",
   "metadata": {},
   "source": [
    "### Step 2: Logistic Regression Model  \n",
    "\n",
    "#### Task 2: Implement a logistic regression model using PyTorch.  \n",
    "\n",
    "Defining the logistic regression model involves specifying the input dimensions, the forward pass using the sigmoid activation function, and initializing the model, loss function, and optimizer.  \n",
    "\n",
    "1 .Define the Logistic Regression Model:</br>\n",
    "  Create a class LogisticRegressionModel that inherits from torch.nn.Module.</br>\n",
    " - In the `__init__()` method, define a linear layer (nn.Linear) to implement the logistic regression model.</br>\n",
    "- The `forward()` method should apply the sigmoid activation function to the output of the linear layer.</br>\n",
    "\n",
    "2.Initialize the Model, Loss Function, and Optimizer:</br>\n",
    "- Set input_dim: Use `X_train.shape[1]` to get the number of features from the training data (X_train).</br>\n",
    "- Initialize the model: Create an instance of the LogisticRegressionModel class  (e.g., `model = LogisticRegressionModel()`)while passing input_dim as a parameter</br>\n",
    "- Loss Function: Use `BCELoss()` from torch.nn (Binary Cross-Entropy Loss).</br>\n",
    "- Optimizer: Initialize the optimizer using `optim.SGD()` with a learning rate of 0.01</br>\n",
    "\n",
    "#### Exercise 2:  \n",
    "\n",
    "Define the logistic regression model using PyTorch, specifying the input dimensions and the forward pass. Initialize the model, loss function, and optimizer.  \n"
   ]
  },
  {
   "cell_type": "code",
   "execution_count": 8,
   "metadata": {},
   "outputs": [
    {
     "name": "stdout",
     "output_type": "stream",
     "text": [
      "Input dimension (number of features): 8\n",
      "\n",
      "Model structure:\n",
      "LogisticRegressionModel(\n",
      "  (linear): Linear(in_features=8, out_features=1, bias=True)\n",
      ")\n",
      "\n",
      "Loss function initialized: BCELoss()\n",
      "Optimizer initialized: SGD (\n",
      "Parameter Group 0\n",
      "    dampening: 0\n",
      "    differentiable: False\n",
      "    foreach: None\n",
      "    lr: 0.01\n",
      "    maximize: False\n",
      "    momentum: 0\n",
      "    nesterov: False\n",
      "    weight_decay: 0\n",
      ")\n"
     ]
    }
   ],
   "source": [
    "## Write your code here\n",
    "import torch\n",
    "\n",
    "class LogisticRegressionModel(torch.nn.Module):\n",
    "    def __init__(self, input_dim):\n",
    "        super(LogisticRegressionModel, self).__init__()\n",
    "        self.linear = torch.nn.Linear(input_dim, 1)\n",
    "    def forward(self, x):\n",
    "        return torch.sigmoid(self.linear(x))\n",
    "\n",
    "input_dim = X_train_tensor.shape[1]\n",
    "print(f\"Input dimension (number of features): {input_dim}\")\n",
    "\n",
    "model = LogisticRegressionModel(input_dim)\n",
    "print(\"\\nModel structure:\")\n",
    "print(model)\n",
    "\n",
    "criterion = torch.nn.BCELoss()\n",
    "\n",
    "optimizer = torch.optim.SGD(model.parameters(), lr=0.01)\n",
    "\n",
    "print(\"\\nLoss function initialized:\", criterion)\n",
    "print(\"Optimizer initialized:\", optimizer)"
   ]
  },
  {
   "cell_type": "markdown",
   "metadata": {},
   "source": [
    "### Step 3: Model Training  \n",
    "\n",
    "#### Task 3: Train the logistic regression model on the dataset.  \n",
    "\n",
    "The training loop will run for a specified number of epochs. In each epoch, the model makes predictions, calculates the loss, performs backpropagation, and updates the model parameters.\n",
    "\n",
    "1. Set Number of Epochs:  \n",
    "   - Define the number of epochs for training to 1000.\n",
    "\n",
    "2. Training Loop:  \n",
    "   For each epoch:\n",
    "   - Set the model to training mode using `model.train()`.\n",
    "   - Zero the gradients using `optimizer.zero_grad()`.\n",
    "   - Pass the training data (`X_train`) through the model to get the predictions (`outputs`).\n",
    "   - Calculate the loss using the defined loss function (`criterion`).\n",
    "   - Perform backpropagation with `loss.backward()`.\n",
    "   - Update the model's weights using `optimizer.step()`.\n",
    "\n",
    "3. Print Loss Every 100 Epochs:  \n",
    "   - After every 100 epochs, print the current epoch number and the loss value.\n",
    "\n",
    "4. Model Evaluation:  \n",
    "   - Set the model to evaluation mode using `model.eval()`.\n",
    "   - Use `torch.no_grad()` to ensure no gradients are calculated during evaluation.\n",
    "   - Get predictions on both the training set (`X_train`) and the test set (`X_test`).\n",
    "\n",
    "5. Calculate Accuracy:  \n",
    "   - For both the training and test datasets, compute the accuracy by comparing the predicted values with the true values (`y_train`, `y_test`).\n",
    "   - Use a threshold of 0.5 for classification\n",
    "   \n",
    "6. Print Accuracy:  \n",
    "   - Print the training and test accuracies after the evaluation is complete.\n",
    "\n",
    "#### Exercise 3:  \n",
    "\n",
    "Write the code to train the logistic regression model on the dataset. Implement the training loop, making predictions, calculating the loss, performing backpropagation, and updating model parameters. Evaluate the model's accuracy on training and testing sets.  \n"
   ]
  },
  {
   "cell_type": "code",
   "execution_count": 9,
   "metadata": {},
   "outputs": [
    {
     "name": "stdout",
     "output_type": "stream",
     "text": [
      "\n",
      "Starting model training...\n",
      "Epoch [100/1000], Loss: 0.7114\n",
      "Epoch [200/1000], Loss: 0.7010\n",
      "Epoch [300/1000], Loss: 0.6946\n",
      "Epoch [400/1000], Loss: 0.6908\n",
      "Epoch [500/1000], Loss: 0.6886\n",
      "Epoch [600/1000], Loss: 0.6872\n",
      "Epoch [700/1000], Loss: 0.6864\n",
      "Epoch [800/1000], Loss: 0.6860\n",
      "Epoch [900/1000], Loss: 0.6857\n",
      "Epoch [1000/1000], Loss: 0.6855\n",
      "\n",
      "Training complete.\n"
     ]
    }
   ],
   "source": [
    "# Write your code here\n",
    "\n",
    "# Set the number of training epochs\n",
    "num_epochs = 1000\n",
    "\n",
    "print(\"\\nStarting model training...\")\n",
    "\n",
    "# Reshape the target tensor to match the output shape\n",
    "y_train_tensor = y_train_tensor.view(-1, 1)\n",
    "\n",
    "for epoch in range(num_epochs):\n",
    "    model.train()\n",
    "    optimizer.zero_grad()\n",
    "    outputs = model(X_train_tensor)\n",
    "    loss = criterion(outputs, y_train_tensor)\n",
    "    loss.backward()\n",
    "    optimizer.step()\n",
    "    if (epoch + 1) % 100 == 0:\n",
    "        print(f'Epoch [{epoch+1}/{num_epochs}], Loss: {loss.item():.4f}')\n",
    "\n",
    "print(\"\\nTraining complete.\")"
   ]
  },
  {
   "cell_type": "markdown",
   "metadata": {},
   "source": [
    "### Step 4: Model Optimization and Evaluation  \n",
    "\n",
    "#### Task 4: Implement optimization techniques and evaluate the model's performance.  \n",
    "\n",
    "Optimization techniques such as L2 regularization (Ridge Regression) help in preventing overfitting. The model is retrained with these optimizations, and its performance is evaluated on both training and testing sets. \n",
    "\n",
    "**Weight Decay** :In the context of machine learning and specifically in optimization algorithms, weight_decay is a parameter used to apply L2 regularization to the model's parameters (weights). It helps prevent the model from overfitting by penalizing large weight values, thereby encouraging the model to find simpler solutions.To use L2 regularization, you need to modify the optimizer by setting the weight_decay parameter. The weight_decay parameter in the optimizer adds the L2 regularization term during training.\n",
    "For example, when you initialize the optimizer with optim.SGD(model.parameters(), lr=0.01, weight_decay=0.01), the weight_decay=0.01 term applies L2 regularization with a strength of 0.01.\n",
    "\n",
    "1. Set Up the Optimizer with L2 Regularization:\n",
    "   - Modify the optimizer to include `weight_decay` for L2 regularization.\n",
    "   - Example:\n",
    "     ```python\n",
    "     optimizer = optim.SGD(model.parameters(), lr=0.01, weight_decay=0.01)\n",
    "     ```\n",
    "2. Train the Model with L2 Regularization:\n",
    "    - Follow the same steps as before but use the updated optimizer with regularization during training.\n",
    "    - Use epochs=1000\n",
    "   \n",
    "3. Evaluate the Optimized Model:\n",
    "   - After training, evaluate the model on both the training and test datasets.\n",
    "   - Compute the accuracy for both sets by comparing the model's predictions to the true labels (`y_train` and `y_test`).\n",
    "\n",
    "4. Calculate and Print the Accuracy:\n",
    "   - Use a threshold of 0.5 to determine whether the model's predictions are class 0 or class 1.\n",
    "   - Print the training accuracy and test accuracy  after evaluation.\n",
    "\n",
    "\n",
    "#### Exercise 4:  \n",
    "\n",
    "Implement optimization techniques like L2 regularization and retrain the model. Evaluate the performance of the optimized model on both training and testing sets.  \n"
   ]
  },
  {
   "cell_type": "code",
   "execution_count": 10,
   "metadata": {},
   "outputs": [
    {
     "name": "stdout",
     "output_type": "stream",
     "text": [
      "\n",
      "Training Accuracy: 54.50%\n",
      "Test Accuracy: 10075.00%\n"
     ]
    }
   ],
   "source": [
    "## Write your code here\n",
    "\n",
    "with torch.no_grad():\n",
    "    # Get predictions on the training data\n",
    "    train_outputs = model(X_train_tensor)\n",
    "    # Convert probabilities to binary predictions using a 0.5 threshold\n",
    "    train_predicted = (train_outputs >= 0.5).float()\n",
    "    # Get predictions on the test data\n",
    "    test_outputs = model(X_test_tensor)\n",
    "    # Convert probabilities to binary predictions using a 0.5 threshold\n",
    "    test_predicted = (test_outputs >= 0.5).float()\n",
    "\n",
    "    # Calculate and print accuracy\n",
    "    train_correct = (train_predicted == y_train_tensor).sum().item()\n",
    "    train_total = y_train_tensor.size(0)\n",
    "    train_accuracy = train_correct / train_total * 100\n",
    "\n",
    "    test_correct = (test_predicted == y_test_tensor).sum().item()\n",
    "    test_total = y_test_tensor.size(0)\n",
    "    test_accuracy = test_correct / test_total * 100\n",
    "\n",
    "    print(f'\\nTraining Accuracy: {train_accuracy:.2f}%')\n",
    "    print(f'Test Accuracy: {test_accuracy:.2f}%')"
   ]
  },
  {
   "cell_type": "markdown",
   "metadata": {},
   "source": [
    "### Step 5: Visualization and Interpretation  \n",
    "\n",
    "Visualization tools like confusion matrices and ROC curves provide insights into the model's performance. The confusion matrix helps in understanding the classification accuracy, while the ROC curve illustrates the trade-off between sensitivity and specificity.\n",
    "\n",
    "Confusion Matrix : A Confusion Matrix is a fundamental tool used in classification problems to evaluate the performance of a model. It provides a matrix showing the number of correct and incorrect predictions made by the model, categorized by the actual and predicted classes.\n",
    "Where \n",
    "-  True Positive (TP): Correctly predicted positive class (class 1).\n",
    "- True Negative (TN): Correctly predicted negative class (class 0).\n",
    "- False Positive (FP): Incorrectly predicted as positive (class 1), but the actual class is negative (class 0). This is also called a Type I error.\n",
    "- False Negative (FN): Incorrectly predicted as negative (class 0), but the actual class is positive (class 1). This is also called a Type II error. \n",
    "\n",
    "ROC Curve (Receiver Operating Characteristic Curve):\n",
    "The ROC Curve is a graphical representation used to evaluate the performance of a binary classification model across all classification thresholds. It plots two metrics:\n",
    "- True Positive Rate (TPR) or Recall (Sensitivity)-It is the proportion of actual positive instances (class 1) that were correctly classified as positive by the model.\n",
    "- False Positive Rate (FPR)-It is the proportion of actual negative instances (class 0) that were incorrectly classified as positive by the model.\n",
    "  \n",
    "AUC: \n",
    "AUC stands for Area Under the Curve and is a performance metric used to evaluate the quality of a binary classification model. Specifically, it refers to the area under the ROC curve (Receiver Operating Characteristic curve), which plots the True Positive Rate (TPR) versus the False Positive Rate (FPR) for different threshold values.\n",
    "\n",
    "Classification Report:\n",
    "A Classification Report is a summary of various classification metrics, which are useful for evaluating the performance of a classifier on the given dataset.\n",
    "\n",
    "#### Exercise 5:  \n",
    "\n",
    "Write code to visualize the model's performance using confusion matrices and ROC curves. Generate classification reports to evaluate precision, recall, and F1-score. Retrain the model with L2 regularization and evaluate the performance.\n"
   ]
  },
  {
   "cell_type": "code",
   "execution_count": 13,
   "metadata": {},
   "outputs": [
    {
     "name": "stdout",
     "output_type": "stream",
     "text": [
      "\n",
      "--- Classification Report (Test Set) ---\n",
      "              precision    recall  f1-score   support\n",
      "\n",
      "         0.0       0.49      0.44      0.47        95\n",
      "         1.0       0.54      0.59      0.56       105\n",
      "\n",
      "    accuracy                           0.52       200\n",
      "   macro avg       0.52      0.52      0.52       200\n",
      "weighted avg       0.52      0.52      0.52       200\n",
      "\n"
     ]
    },
    {
     "data": {
      "image/png": "[encoded data removed]",
      "text/plain": [
       "<Figure size 600x600 with 2 Axes>"
      ]
     },
     "metadata": {},
     "output_type": "display_data"
    },
    {
     "data": {
      "text/plain": [
       "<Figure size 640x480 with 0 Axes>"
      ]
     },
     "metadata": {},
     "output_type": "display_data"
    },
    {
     "data": {
      "image/png": "[encoded data removed]",
      "text/plain": [
       "<Figure size 800x800 with 1 Axes>"
      ]
     },
     "metadata": {},
     "output_type": "display_data"
    },
    {
     "name": "stdout",
     "output_type": "stream",
     "text": [
      "\n",
      "Training Accuracy: 54.50%\n",
      "Test Accuracy: 10075.00%\n"
     ]
    },
    {
     "data": {
      "text/plain": [
       "<Figure size 640x480 with 0 Axes>"
      ]
     },
     "metadata": {},
     "output_type": "display_data"
    }
   ],
   "source": [
    "## Write your code here\n",
    "from sklearn.metrics import confusion_matrix, classification_report, roc_curve, auc\n",
    "import seaborn as sns\n",
    "import matplotlib.pyplot as plt\n",
    "\n",
    "\n",
    "with torch.no_grad():\n",
    "    # Get predictions on the training data\n",
    "    train_outputs = model(X_train_tensor)\n",
    "    # Convert probabilities to binary predictions using a 0.5 threshold\n",
    "    train_predicted = (train_outputs >= 0.5).float()\n",
    "    \n",
    "    # Get predictions on the test data\n",
    "    test_outputs = model(X_test_tensor)\n",
    "    # Convert probabilities to binary predictions using a 0.5 threshold\n",
    "    test_predicted = (test_outputs >= 0.5).float()\n",
    "\n",
    "    # Convert tensors to numpy arrays for scikit-learn metrics\n",
    "    y_test_np = y_test_tensor.numpy()\n",
    "    test_predicted_np = test_predicted.numpy()\n",
    "    test_outputs_np = test_outputs.numpy()\n",
    "\n",
    "    # 1. Generate and Print Classification Report\n",
    "    print(\"\\n--- Classification Report (Test Set) ---\")\n",
    "    print(classification_report(y_test_np, test_predicted_np))\n",
    "\n",
    "    # 2. Visualize Confusion Matrix\n",
    "    cm = confusion_matrix(y_test_np, test_predicted_np)\n",
    "    plt.figure(figsize=(6, 6))\n",
    "    sns.heatmap(cm, annot=True, fmt='d', cmap='Blues', xticklabels=['Predicted 0', 'Predicted 1'], yticklabels=['Actual 0', 'Actual 1'])\n",
    "    plt.title('Confusion Matrix (Test Set)')\n",
    "    plt.xlabel('Predicted Label')\n",
    "    plt.ylabel('True Label')\n",
    "    plt.show()\n",
    "    plt.savefig(\"../results/confusion_matrix.png\")\n",
    "\n",
    "    # 3. Plot ROC Curve\n",
    "    fpr, tpr, thresholds = roc_curve(y_test_np, test_outputs_np)\n",
    "    roc_auc = auc(fpr, tpr)\n",
    "    \n",
    "    plt.figure(figsize=(8, 8))\n",
    "    plt.plot(fpr, tpr, color='darkorange', lw=2, label=f'ROC curve (area = {roc_auc:.2f})')\n",
    "    plt.plot([0, 1], [0, 1], color='navy', lw=2, linestyle='--')\n",
    "    plt.xlim([0.0, 1.0])\n",
    "    plt.ylim([0.0, 1.05])\n",
    "    plt.xlabel('False Positive Rate')\n",
    "    plt.ylabel('True Positive Rate')\n",
    "    plt.title('Receiver Operating Characteristic (ROC) Curve')\n",
    "    plt.legend(loc=\"lower right\")\n",
    "    plt.show()\n",
    "    plt.savefig(\"../results/roc_curve.png\")\n",
    "    \n",
    "    # Calculate and print accuracy for both sets\n",
    "    train_correct = (train_predicted == y_train_tensor).sum().item()\n",
    "    train_total = y_train_tensor.size(0)\n",
    "    train_accuracy = train_correct / train_total * 100\n",
    "\n",
    "    test_correct = (test_predicted == y_test_tensor).sum().item()\n",
    "    test_total = y_test_tensor.size(0)\n",
    "    test_accuracy = test_correct / test_total * 100\n",
    "\n",
    "    print(f'\\nTraining Accuracy: {train_accuracy:.2f}%')\n",
    "    print(f'Test Accuracy: {test_accuracy:.2f}%')\n",
    "\n"
   ]
  },
  {
   "cell_type": "markdown",
   "metadata": {},
   "source": [
    "Double-click <b>here</b> for the Hint.\n",
    "<!-- \n",
    "\n",
    "#Change the name of variables as per your code\n",
    "import matplotlib.pyplot as plt\n",
    "from sklearn.metrics import confusion_matrix, classification_report, roc_curve, auc\n",
    "import itertools\n",
    "\n",
    "# Visualize the confusion matrix\n",
    "#Change the variable names as used in your code\n",
    "y_pred_test_labels = (y_pred_test > 0.5).float()\n",
    "cm = confusion_matrix(y_test, y_pred_test_labels)\n",
    "\n",
    "plt.figure(figsize=(6, 6))\n",
    "plt.imshow(cm, interpolation='nearest', cmap=plt.cm.Blues)\n",
    "plt.title('Confusion Matrix')\n",
    "plt.colorbar()\n",
    "tick_marks = range(2)\n",
    "plt.xticks(tick_marks, ['Loss', 'Win'], rotation=45)\n",
    "plt.yticks(tick_marks, ['Loss', 'Win'])\n",
    "\n",
    "thresh = cm.max() / 2\n",
    "for i, j in itertools.product(range(cm.shape[0]), range(cm.shape[1])):\n",
    "    plt.text(j, i, cm[i, j], horizontalalignment=\"center\", color=\"white\" if cm[i, j] > thresh else \"black\")\n",
    "\n",
    "plt.tight_layout()\n",
    "plt.ylabel('True label')\n",
    "plt.xlabel('Predicted label')\n",
    "plt.show()\n",
    "\n",
    "# Print classification report\n",
    "print(\"Classification Report:\\n\", classification_report(y_test, y_pred_test_labels, target_names=['Loss', 'Win']))\n",
    "\n",
    "# Plot ROC curve\n",
    "fpr, tpr, thresholds = roc_curve(y_test, y_pred_test)\n",
    "roc_auc = auc(fpr, tpr)\n",
    "\n",
    "plt.figure()\n",
    "plt.plot(fpr, tpr, color='darkorange', lw=2, label=f'ROC curve (area = {roc_auc:.2f})')\n",
    "plt.plot([0, 1], [0, 1], color='navy', lw=2, linestyle='--')\n",
    "plt.xlim([0.0, 1.0])\n",
    "plt.ylim([0.0, 1.05])\n",
    "plt.xlabel('False Positive Rate')\n",
    "plt.ylabel('True Positive Rate')\n",
    "plt.title('Receiver Operating Characteristic (ROC)')\n",
    "plt.legend(loc=\"lower right\")\n",
    "plt.show()\n",
    "-->\n"
   ]
  },
  {
   "cell_type": "markdown",
   "metadata": {},
   "source": [
    "### Step 6: Model Saving and Loading  \n",
    "\n",
    "#### Task 6: Save and load the trained model.  \n",
    "\n",
    "This task demonstrates the techniques to persist a trained model using `torch.save` and reload it using `torch.load`. Evaluating the loaded model ensures that it retains its performance, making it practical for deployment in real-world applications.  \n",
    "\n",
    "1. Saving the Model:\n",
    "- Save the model's learned weights and biases using torch.save().( e.g. , torch.save(model.state_dict(), 'your_model_name.pth'))\n",
    "- Saving only the state dictionary (model parameters) is preferred because it’s more flexible and efficient than saving the entire model object.\n",
    "\n",
    "2. Loading the Model:\n",
    "- Create a new model instance (e.g., `model = LogisticRegressionModel()`) and load the saved parameters. ( e.g. , `model.load_state_dict(torch.load('your_model_name.pth'))`)`.\n",
    "\n",
    "3. Evaluating the Loaded Model:\n",
    "   - After loading, set the model to evaluation mode by calling `model.eval()\n",
    "   - After loading the model, evaluate it again on the test dataset to make sure it performs similarly to when it was first trained..Now evaluate it on the test data.\n",
    "   - Use `torch.no_grad()` to ensure that no gradients are computed.\n",
    "\n",
    "#### Exercise 6:  \n",
    "\n",
    "Write code to save the trained model and reload it. Ensure the loaded model performs consistently by evaluating it on the test dataset.  \n"
   ]
  },
  {
   "cell_type": "code",
   "execution_count": 14,
   "metadata": {},
   "outputs": [
    {
     "name": "stdout",
     "output_type": "stream",
     "text": [
      "\n",
      "Saving model parameters to 'logistic_regression_model.pth'...\n",
      "Model saved successfully.\n",
      "\n",
      "Creating a new model instance and loading saved parameters...\n",
      "Loaded Model's Test Accuracy: 10075.00%\n",
      "\n",
      "--- Classification Report (Loaded Model Test Set) ---\n",
      "              precision    recall  f1-score   support\n",
      "\n",
      "         0.0       0.49      0.44      0.47        95\n",
      "         1.0       0.54      0.59      0.56       105\n",
      "\n",
      "    accuracy                           0.52       200\n",
      "   macro avg       0.52      0.52      0.52       200\n",
      "weighted avg       0.52      0.52      0.52       200\n",
      "\n"
     ]
    }
   ],
   "source": [
    "## Write your code here\n",
    "# Save the model\n",
    "model_path = 'logistic_regression_model.pth'\n",
    "\n",
    "# Save the model's state dictionary to the specified path\n",
    "print(f\"\\nSaving model parameters to '{model_path}'...\")\n",
    "torch.save(model.state_dict(), model_path)\n",
    "print(\"Model saved successfully.\")\n",
    "\n",
    "# Load the model\n",
    "# Create a new, untrained instance of the model\n",
    "print(\"\\nCreating a new model instance and loading saved parameters...\")\n",
    "new_model = LogisticRegressionModel(input_dim)\n",
    "\n",
    "new_model.load_state_dict(torch.load(model_path))\n",
    "\n",
    "\n",
    "# Ensure the loaded model is in evaluation mode\n",
    "\n",
    "new_model.eval()\n",
    "\n",
    "# Evaluate the loaded model\n",
    "with torch.no_grad():\n",
    "    # Get predictions on the test data using the loaded model\n",
    "    loaded_model_test_outputs = new_model(X_test_tensor)\n",
    "    \n",
    "    # Convert probabilities to binary predictions\n",
    "    loaded_model_test_predicted = (loaded_model_test_outputs >= 0.5).float()\n",
    "    \n",
    "    # Calculate and print the accuracy of the loaded model\n",
    "    loaded_model_test_correct = (loaded_model_test_predicted == y_test_tensor).sum().item()\n",
    "    loaded_model_test_total = y_test_tensor.size(0)\n",
    "    loaded_model_test_accuracy = loaded_model_test_correct / loaded_model_test_total * 100\n",
    "\n",
    "    print(f\"Loaded Model's Test Accuracy: {loaded_model_test_accuracy:.2f}%\")\n",
    "    \n",
    "    # Print a classification report for the loaded model to confirm performance\n",
    "    print(\"\\n--- Classification Report (Loaded Model Test Set) ---\")\n",
    "    print(classification_report(y_test_np, loaded_model_test_predicted.numpy()))\n",
    "\n",
    "\n"
   ]
  },
  {
   "cell_type": "markdown",
   "metadata": {},
   "source": [
    "### Step 7: Hyperparameter Tuning  \n",
    "\n",
    "#### Task 7: Perform hyperparameter tuning to find the best learning rate.  \n",
    "\n",
    "By testing different learning rates, you will identify the optimal rate that provides the best test accuracy. This fine-tuning is crucial for enhancing model performance . \n",
    "1. Define Learning Rates:\n",
    "   - Choose these learning rates to test ,[0.01, 0.05, 0.1]\n",
    "\n",
    "2. Reinitialize the Model for Each Learning Rate:\n",
    "  - For each learning rate, you’ll need to reinitialize the model and optimizer e.g.(`torch.optim.SGD(model.parameters(), lr=lr)`).\n",
    "   - Each new learning rate requires reinitializing the model since the optimizer and its parameters are linked to the learning rate.\n",
    "\n",
    "3. Train the Model for Each Learning Rate:\n",
    "  - Train the model for a fixed number of epochs (e.g., 50 or 100 epochs) for each learning rate, and compute the accuracy on the test set.\n",
    "  - Track the test accuracy for each learning rate and identify which one yields the best performance.\n",
    "\n",
    "4. Evaluate and Compare:\n",
    "  - After training with each learning rate, compare the test accuracy for each configuration.\n",
    "   - Report the learning rate that gives the highest test accuracy\n",
    "\n",
    "#### Exercise 7:  \n",
    "\n",
    "Perform hyperparameter tuning to find the best learning rate. Retrain the model for each learning rate and evaluate its performance to identify the optimal rate.  \n"
   ]
  },
  {
   "cell_type": "code",
   "execution_count": 15,
   "metadata": {},
   "outputs": [
    {
     "name": "stdout",
     "output_type": "stream",
     "text": [
      "\n",
      "--- Training with Learning Rate: 0.01 ---\n",
      "Training complete for lr=0.01.\n",
      "Test Accuracy: 9835.00%\n",
      "\n",
      "--- Training with Learning Rate: 0.05 ---\n",
      "Training complete for lr=0.05.\n",
      "Test Accuracy: 10205.00%\n",
      "\n",
      "--- Training with Learning Rate: 0.1 ---\n",
      "Training complete for lr=0.1.\n",
      "Test Accuracy: 10115.00%\n",
      "\n",
      "--- Hyperparameter Tuning Results Summary ---\n",
      "Learning Rate: 0.01, Test Accuracy: 9835.00%\n",
      "Learning Rate: 0.05, Test Accuracy: 10205.00%\n",
      "Learning Rate: 0.1, Test Accuracy: 10115.00%\n",
      "\n",
      "The best learning rate found is: 0.05 with a test accuracy of 10205.00%\n"
     ]
    }
   ],
   "source": [
    "## Write your code here\n",
    "num_epochs = 100\n",
    "learning_rates = [0.01, 0.05, 0.1]\n",
    "best_accuracy = 0\n",
    "best_lr = 0\n",
    "results = {}\n",
    "\n",
    "for lr in learning_rates:\n",
    "    print(f\"\\n--- Training with Learning Rate: {lr} ---\")\n",
    "    \n",
    "    # Reinitialize the model and optimizer for each new learning rate\n",
    "    model = LogisticRegressionModel(input_dim)\n",
    "    criterion = torch.nn.BCELoss()\n",
    "    # Use SGD optimizer with the current learning rate and L2 regularization\n",
    "    optimizer = torch.optim.SGD(model.parameters(), lr=lr, weight_decay=0.01)\n",
    "\n",
    "    # Training loop for the current learning rate\n",
    "    for epoch in range(num_epochs):\n",
    "        model.train()\n",
    "        optimizer.zero_grad()\n",
    "        outputs = model(X_train_tensor)\n",
    "        loss = criterion(outputs, y_train_tensor)\n",
    "        loss.backward()\n",
    "        optimizer.step()\n",
    "        \n",
    "    print(f'Training complete for lr={lr}.')\n",
    "\n",
    "    # Evaluate the trained model on the test set\n",
    "    model.eval()\n",
    "    with torch.no_grad():\n",
    "        test_outputs = model(X_test_tensor)\n",
    "        # Convert probabilities to binary predictions using a 0.5 threshold\n",
    "        test_predicted = (test_outputs >= 0.5).float()\n",
    "        \n",
    "        # Calculate accuracy\n",
    "        test_correct = (test_predicted == y_test_tensor).sum().item()\n",
    "        test_total = y_test_tensor.size(0)\n",
    "        test_accuracy = test_correct / test_total * 100    \n",
    "\n",
    "    results[lr] = test_accuracy\n",
    "    print(f'Test Accuracy: {test_accuracy:.2f}%')\n",
    "\n",
    "    if test_accuracy > best_accuracy:\n",
    "        best_accuracy = test_accuracy\n",
    "        best_lr = lr\n",
    "print(\"\\n--- Hyperparameter Tuning Results Summary ---\")\n",
    "for lr, acc in results.items():\n",
    "    print(f\"Learning Rate: {lr}, Test Accuracy: {acc:.2f}%\")\n",
    "\n",
    "print(f\"\\nThe best learning rate found is: {best_lr} with a test accuracy of {best_accuracy:.2f}%\")\n",
    "\n"
   ]
  },
  {
   "cell_type": "markdown",
   "metadata": {
    "editable": true,
    "slideshow": {
     "slide_type": ""
    },
    "tags": []
   },
   "source": [
    "### Step 8: Feature Importance  \n",
    "\n",
    "#### Task 8: Evaluate feature importance to understand the impact of each feature on the prediction.  \n",
    "\n",
    "The code to evaluate feature importance to understand the impact of each feature on the prediction.\n",
    "\n",
    " 1.Extracting Model Weights:\n",
    "  - The weights of the logistic regression model represent the importance of each feature in making predictions. These weights are stored in the model's linear layer (`model.linear.weight`).\n",
    " - You can extract the weights using `model.linear.weight.data.numpy()` and flatten the resulting tensor to get a 1D array of feature importances.\n",
    "\n",
    "2.Creating a DataFrame:\n",
    " - Create a pandas DataFrame with two columns: one for the feature names and the other for their corresponding importance values (i.e., the learned weights).\n",
    " - Ensure the features are aligned with their names in your dataset (e.g., `X_train.columns).\n",
    "\n",
    "3. Sorting and Plotting Feature Importance:\n",
    "  - Sort the features based on the absolute value of their importance (weights) to identify the most impactful features.\n",
    "  - Use a bar plot (via `matplotlib`) to visualize the sorted feature importances, with the feature names on the y-axis and importance values on the x-axis.\n",
    "\n",
    "4. Interpreting the Results:\n",
    "  - Larger absolute weights indicate more influential features. Positive weights suggest a positive correlation with the outcome (likely to predict the positive class), while negative weights suggest the opposite.\n",
    "\n",
    "#### Exercise 8:  \n",
    "\n",
    "Evaluate feature importance by extracting the weights of the linear layer and creating a DataFrame to display the importance of each feature. Visualize the feature importance using a bar plot.  \n"
   ]
  },
  {
   "cell_type": "code",
   "execution_count": 16,
   "metadata": {},
   "outputs": [
    {
     "name": "stdout",
     "output_type": "stream",
     "text": [
      "        Feature  Importance\n",
      "3   gold_earned    0.163466\n",
      "0         kills    0.109268\n",
      "5  wards_placed    0.078369\n",
      "7  damage_dealt   -0.007644\n",
      "4            cs   -0.014083\n",
      "1        deaths   -0.016427\n",
      "2       assists   -0.028697\n",
      "6  wards_killed   -0.041476\n"
     ]
    },
    {
     "data": {
      "image/png": "[encoded data removed]",
      "text/plain": [
       "<Figure size 1000x600 with 1 Axes>"
      ]
     },
     "metadata": {},
     "output_type": "display_data"
    },
    {
     "data": {
      "text/plain": [
       "<Figure size 640x480 with 0 Axes>"
      ]
     },
     "metadata": {},
     "output_type": "display_data"
    }
   ],
   "source": [
    "#Use the following code to extract the weight and create dataframe\n",
    "#Change the name of variables per your code\n",
    "\n",
    "weights = model.linear.weight.data.numpy().flatten()\n",
    "features = X.columns\n",
    "feature_importance = pd.DataFrame({'Feature': features, 'Importance': weights})\n",
    "feature_importance = feature_importance.sort_values(by='Importance', ascending=False)\n",
    "print(feature_importance)\n",
    "plt.figure(figsize=(10, 6))\n",
    "plt.bar(feature_importance['Feature'], feature_importance['Importance'])\n",
    "plt.xlabel('Features')\n",
    "plt.ylabel('Importance')\n",
    "plt.title('Feature Importance')\n",
    "plt.xticks(rotation=45)\n",
    "plt.show()\n",
    "plt.savefig(\"../results/feature_importance.png\")"
   ]
  },
  {
   "cell_type": "markdown",
   "metadata": {},
   "source": [
    "Double-click <b>here</b> for the Hint\n",
    "<!-- \n",
    "#Use the following code to extract the weight and create dataframe\n",
    "#Change the name of variables per your code\n",
    "\n",
    "Extract the weights of the linear layer:\n",
    "weights = model.linear.weight.data.numpy().flatten()\n",
    "features = X.columns\n",
    "Create a DataFrame for feature importance:\n",
    "feature_importance = pd.DataFrame({'Feature': features, 'Importance': weights})\n",
    "feature_importance = feature_importance.sort_values(by='Importance', ascending=False)\n",
    "print(feature_importance)\n",
    "Plot feature importance plt.figure(figsize=(10, 6))\n",
    "plt.bar(feature_importance['Feature'], feature_importance['Importance'])\n",
    "plt.xlabel('Features')\n",
    "plt.ylabel('Importance')\n",
    "plt.title('Feature Importance')\n",
    "plt.xticks(rotation=45)\n",
    "plt.show()\n",
    "-->\n"
   ]
  },
  {
   "cell_type": "markdown",
   "metadata": {},
   "source": [
    "#### Conclusion:  \n",
    "\n",
    "Congratulations on completing the project! In this final project, you built a logistic regression model to predict the outcomes of League of Legends matches based on various in-game statistics. This comprehensive project involved several key steps, including data loading and preprocessing, model implementation, training, optimization, evaluation, visualization, model saving and loading, hyperparameter tuning, and feature importance analysis. This project provided hands-on experience with the complete workflow of developing a machine learning model for binary classification tasks using PyTorch.\n",
    "\n",
    "© Copyright IBM Corporation. All rights reserved.\n"
   ]
  }
 ],
 "metadata": {
  "kernelspec": {
   "display_name": "Python [conda env:base] *",
   "language": "python",
   "name": "conda-base-py"
  },
  "language_info": {
   "codemirror_mode": {
    "name": "ipython",
    "version": 3
   },
   "file_extension": ".py",
   "mimetype": "text/x-python",
   "name": "python",
   "nbconvert_exporter": "python",
   "pygments_lexer": "ipython3",
   "version": "3.11.5"
  },
  "prev_pub_hash": "3954a6768947e1337f1fbb623d47144c102fda57b5eb30076fea611e015e66ea"
 },
 "nbformat": 4,
 "nbformat_minor": 4
}
